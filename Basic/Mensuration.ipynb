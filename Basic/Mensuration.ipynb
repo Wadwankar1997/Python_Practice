{
 "cells": [
  {
   "cell_type": "code",
   "execution_count": 1,
   "id": "44540a42",
   "metadata": {},
   "outputs": [
    {
     "name": "stdout",
     "output_type": "stream",
     "text": [
      "Enter the length : 12\n",
      "Enter the breadth : 12\n",
      "area of rectangle :  144.0\n"
     ]
    }
   ],
   "source": [
    "#area of rectangle\n",
    "l=float(input(\"Enter the length : \"))\n",
    "w=float(input(\"Enter the breadth : \"))\n",
    "area=l*w\n",
    "print(\"area of rectangle : \",area)"
   ]
  },
  {
   "cell_type": "code",
   "execution_count": 5,
   "id": "ec6cf69a",
   "metadata": {},
   "outputs": [
    {
     "name": "stdout",
     "output_type": "stream",
     "text": [
      "Enter the l for rect : 12\n",
      "area of square : 144.0\n"
     ]
    }
   ],
   "source": [
    "#area of square\n",
    "l=float(input(\"Enter the l for rect : \"))\n",
    "area=l*l\n",
    "print(\"area of square :\",area)"
   ]
  },
  {
   "cell_type": "code",
   "execution_count": 2,
   "id": "9f0815f7",
   "metadata": {},
   "outputs": [
    {
     "name": "stdout",
     "output_type": "stream",
     "text": [
      "Enter the r for circle :2\n",
      "area of circle:  12.56\n"
     ]
    }
   ],
   "source": [
    "#area for circle\n",
    "r=float(input(\"Enter the r for circle :\"))\n",
    "area=3.14*r*r\n",
    "print(\"area of circle: \",area)"
   ]
  },
  {
   "cell_type": "code",
   "execution_count": 7,
   "id": "0cd11b8e",
   "metadata": {},
   "outputs": [
    {
     "name": "stdout",
     "output_type": "stream",
     "text": [
      "Enter the l for rect : 12\n",
      "Enter the b for rect : 13\n",
      "area of rect : 50.0\n"
     ]
    }
   ],
   "source": [
    "#perimeter of rectangle\n",
    "l=float(input(\"Enter the l for rect : \"))\n",
    "b=float(input(\"Enter the b for rect : \"))\n",
    "perimeter=2*l+2*b\n",
    "print(\"area of rect :\",perimeter)"
   ]
  },
  {
   "cell_type": "code",
   "execution_count": 8,
   "id": "f2384403",
   "metadata": {},
   "outputs": [
    {
     "name": "stdout",
     "output_type": "stream",
     "text": [
      "Enter the side for rect : 13\n",
      "perimeter of square : 144.0\n"
     ]
    }
   ],
   "source": [
    "#perimter of square\n",
    "side=float(input(\"Enter the side for rect : \"))\n",
    "perimeter=4*side\n",
    "print(\"perimeter of square :\",area)"
   ]
  },
  {
   "cell_type": "code",
   "execution_count": 1,
   "id": "d3ed93ef",
   "metadata": {},
   "outputs": [
    {
     "name": "stdout",
     "output_type": "stream",
     "text": [
      "Enter the radius for rect : 12\n",
      "circumference of circle :  75.36\n"
     ]
    }
   ],
   "source": [
    "#circumference of circle\n",
    "r=float(input(\"Enter the radius for rect : \"))\n",
    "\n",
    "circumference=2*3.14*r\n",
    "print(\"circumference of circle : \",circumference)"
   ]
  },
  {
   "cell_type": "code",
   "execution_count": 9,
   "id": "d2be76d5",
   "metadata": {},
   "outputs": [
    {
     "name": "stdout",
     "output_type": "stream",
     "text": [
      "Enter the l for cube and cubiod : 12\n",
      "Enter the b for cube and cubiod : 13\n",
      "Enter the h for cube and cubiod : 21\n",
      "volume of cube : 1728.0\n",
      "volume of cubiod : 3276.0\n"
     ]
    }
   ],
   "source": [
    "#volume of cube and cubiod\n",
    "l=float(input(\"Enter the l for cube and cubiod : \"))\n",
    "b=float(input(\"Enter the b for cube and cubiod : \"))\n",
    "h=float(input(\"Enter the h for cube and cubiod : \"))\n",
    "volume_of_cube=l*l*l\n",
    "volume_of_cubiod=l*b*h\n",
    "\n",
    "print(\"volume of cube :\",volume_of_cube)\n",
    "print(\"volume of cubiod :\",volume_of_cubiod)"
   ]
  },
  {
   "cell_type": "code",
   "execution_count": 11,
   "id": "92414a8d",
   "metadata": {},
   "outputs": [
    {
     "name": "stdout",
     "output_type": "stream",
     "text": [
      "Enter the l for cube and cubiod : 12\n",
      "Enter the b for cube and cubiod : 13\n",
      "Enter the h for cube and cubiod : 13\n",
      "total surface area of cube : 864.0\n",
      "volume of cubiod : 962.0\n"
     ]
    }
   ],
   "source": [
    "#total surface area of cube and cubiod\n",
    "l=float(input(\"Enter the l for cube and cubiod : \"))\n",
    "b=float(input(\"Enter the b for cube and cubiod : \"))\n",
    "h=float(input(\"Enter the h for cube and cubiod : \"))\n",
    "total_surface_area_cube=6*l*l\n",
    "total_surface_area_cubiod=2*l*b+2*b*h+2*l*h\n",
    "print(\"total surface area of cube :\",total_surface_area_cube)\n",
    "print(\"volume of cubiod :\",total_surface_area_cubiod)\n",
    "\n"
   ]
  },
  {
   "cell_type": "code",
   "execution_count": null,
   "id": "8f81c852",
   "metadata": {},
   "outputs": [],
   "source": []
  }
 ],
 "metadata": {
  "kernelspec": {
   "display_name": "Python 3 (ipykernel)",
   "language": "python",
   "name": "python3"
  },
  "language_info": {
   "codemirror_mode": {
    "name": "ipython",
    "version": 3
   },
   "file_extension": ".py",
   "mimetype": "text/x-python",
   "name": "python",
   "nbconvert_exporter": "python",
   "pygments_lexer": "ipython3",
   "version": "3.9.7"
  }
 },
 "nbformat": 4,
 "nbformat_minor": 5
}
