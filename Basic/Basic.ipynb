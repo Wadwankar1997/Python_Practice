{
  "nbformat": 4,
  "nbformat_minor": 0,
  "metadata": {
    "colab": {
      "name": "Basic.ipynb",
      "provenance": []
    },
    "kernelspec": {
      "name": "python3",
      "display_name": "Python 3"
    },
    "language_info": {
      "name": "python"
    }
  },
  "cells": [
    {
      "cell_type": "code",
      "execution_count": 5,
      "metadata": {
        "colab": {
          "base_uri": "https://localhost:8080/"
        },
        "id": "KIdVT35wiRWo",
        "outputId": "11655694-fe39-4591-ec50-107221a72cf5"
      },
      "outputs": [
        {
          "output_type": "stream",
          "name": "stdout",
          "text": [
            "aishwarya27-01-1997\n"
          ]
        }
      ],
      "source": [
        "a=\"aishwarya\"\n",
        "b=\"27-01-1997\"\n",
        "print(a + b)\n",
        "\n"
      ]
    },
    {
      "cell_type": "code",
      "source": [
        "a=\"aish\"\n",
        "b=\"wadwankar\"\n",
        "c=\"@gmail.com\"\n",
        "print(a+b+c)"
      ],
      "metadata": {
        "colab": {
          "base_uri": "https://localhost:8080/"
        },
        "id": "zapHHg07jJ7D",
        "outputId": "d638a2a7-b72e-421f-ad05-da7f02b07456"
      },
      "execution_count": 6,
      "outputs": [
        {
          "output_type": "stream",
          "name": "stdout",
          "text": [
            "aishwadwankar@gmail.com\n"
          ]
        }
      ]
    },
    {
      "cell_type": "code",
      "source": [
        "a=\"aishwarya\"\n",
        "b=\"avdhutrao\"\n",
        "c=\"wadwankar\"\n",
        "print(a+\" \"+b+\" \"+c)\n"
      ],
      "metadata": {
        "colab": {
          "base_uri": "https://localhost:8080/"
        },
        "id": "gR35_zMGkMBT",
        "outputId": "0f9a0099-69ef-4b8d-af39-44178ea77a38"
      },
      "execution_count": 10,
      "outputs": [
        {
          "output_type": "stream",
          "name": "stdout",
          "text": [
            "aishwarya avdhutrao wadwankar\n"
          ]
        }
      ]
    },
    {
      "cell_type": "code",
      "source": [
        "math=int(input(\"Enter the math marks : \"))\n",
        "science=int(input(\"Enter the science marks : \"))\n",
        "english=int(input(\"Enter the english marks: \"))\n",
        "marathi=int(input(\"Enter the marathi marks: \"))\n",
        "chemistry=int(input(\"Enter the chemistry marks: \"))\n",
        "per=((math+science+english+marathi+chemistry)/500)*100\n",
        "print(\"percentage of student\",per)"
      ],
      "metadata": {
        "colab": {
          "base_uri": "https://localhost:8080/"
        },
        "id": "FRyphhZukmxM",
        "outputId": "17dfcd16-581a-4af6-a2ca-c6cb9753adf4"
      },
      "execution_count": 13,
      "outputs": [
        {
          "output_type": "stream",
          "name": "stdout",
          "text": [
            "Enter the math marks : 50\n",
            "Enter the science marks : 50\n",
            "Enter the english marks: 50\n",
            "Enter the marathi marks: 50\n",
            "Enter the chemistry marks: 50\n",
            "percentage of student 50.0\n"
          ]
        }
      ]
    },
    {
      "cell_type": "code",
      "source": [
        ""
      ],
      "metadata": {
        "id": "Rn01BD8Kl4ER"
      },
      "execution_count": null,
      "outputs": []
    }
  ]
}
